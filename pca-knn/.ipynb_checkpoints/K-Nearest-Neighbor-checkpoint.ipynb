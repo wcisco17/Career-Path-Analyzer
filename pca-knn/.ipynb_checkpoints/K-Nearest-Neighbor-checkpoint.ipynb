{
 "cells": [
  {
   "cell_type": "markdown",
   "id": "44adc90d",
   "metadata": {},
   "source": [
    "# One hot coding the data"
   ]
  },
  {
   "cell_type": "markdown",
   "id": "f6dca2ef",
   "metadata": {},
   "source": [
    "Why are we one-coding our data\n",
    "- We'll need vectorize our data set to plot on the graph"
   ]
  },
  {
   "cell_type": "markdown",
   "id": "8e7b4d5f",
   "metadata": {},
   "source": [
    "## Libraries"
   ]
  },
  {
   "cell_type": "code",
   "execution_count": 38,
   "id": "04570571",
   "metadata": {},
   "outputs": [],
   "source": [
    "import matplotlib.pyplot as plt\n",
    "import pandas as pd\n",
    "import numpy as np\n",
    "import seaborn as sns\n",
    "from sklearn import preprocessing\n",
    "from sklearn.preprocessing import StandardScaler"
   ]
  },
  {
   "cell_type": "code",
   "execution_count": 39,
   "id": "9fa2d81f",
   "metadata": {},
   "outputs": [],
   "source": [
    "# Prepocessing the data set (One hot coder with sklearn)\n",
    "label = preprocessing.LabelEncoder()\n",
    "enc = preprocessing.OneHotEncoder()"
   ]
  },
  {
   "cell_type": "code",
   "execution_count": 40,
   "id": "e5d2eacb",
   "metadata": {},
   "outputs": [],
   "source": [
    "# load data set\n",
    "linkedIn_data = pd.read_csv('linkedin.csv')"
   ]
  },
  {
   "cell_type": "code",
   "execution_count": 44,
   "id": "f0ab26d8",
   "metadata": {},
   "outputs": [
    {
     "name": "stdout",
     "output_type": "stream",
     "text": [
      "    Headline  Industry  College-Name-1  Degree-Name-1  Field-Of-Study-1  \\\n",
      "0         13         3              48             35                40   \n",
      "1         33         3              36             30                13   \n",
      "2         34         3               6             12                 0   \n",
      "3         42         3              40             33                32   \n",
      "4         56         3               4             14                 1   \n",
      "5         15         3              45             33                22   \n",
      "6         30         3              42             33                 7   \n",
      "7         35         3              31             13                16   \n",
      "8         41         3              31             32                21   \n",
      "9         10         3               7             28                12   \n",
      "10        47         1              24             26                39   \n",
      "11        24         1              44              8                14   \n",
      "12        39         1              21             25                20   \n",
      "13        45         1              46             24                19   \n",
      "14        58         1              23             35                40   \n",
      "15        11         1              14             16                40   \n",
      "16        38         1              13             27                 3   \n",
      "17        31         1               1              5                25   \n",
      "18        18         1              39              2                35   \n",
      "19        19         1              37             12                 4   \n",
      "20         8         1               0             17                 2   \n",
      "21        29         1               8              1                15   \n",
      "22        20         5              48             35                40   \n",
      "23        22         5              22             19                26   \n",
      "24        32         5              19             31                27   \n",
      "25        54         5              33              0                24   \n",
      "26        55         5               5             34                38   \n",
      "27        44         5              29             27                40   \n",
      "28        16         5              12             23                17   \n",
      "29        17         5              48             35                40   \n",
      "30        27         5               3             15                29   \n",
      "31         9         5              11              6                28   \n",
      "32        50         5              48             35                40   \n",
      "33        43         5              41             26                10   \n",
      "34        46         0              28             35                 9   \n",
      "35        36         0              17             22                18   \n",
      "36         4         0              43              4                36   \n",
      "37        48         0              15             10                 6   \n",
      "38         3         0              48             35                40   \n",
      "39         4         0              10              7                 5   \n",
      "40         6         0              47             28                11   \n",
      "41         1         0              34             18                40   \n",
      "42         5         0              31              9                37   \n",
      "43         2         0               9              3                14   \n",
      "44        51         6              30              7                 6   \n",
      "45        49         6              35              7                 6   \n",
      "46        21         6              20             28                 6   \n",
      "47        53         6              48             35                40   \n",
      "48        14         6              26              1                33   \n",
      "49        25         6              16             11                 8   \n",
      "50        52         6              18             35                40   \n",
      "51        12         4               2             10                34   \n",
      "52         7         4              48             35                40   \n",
      "53        57         4              48             35                40   \n",
      "54        40         4              38             21                30   \n",
      "55         0         4              25             29                23   \n",
      "56        37         4              48             35                40   \n",
      "57        28         4              48             35                40   \n",
      "58        26         4              32              1                31   \n",
      "59        23         2              27             20                26   \n",
      "\n",
      "    Activities-and-Societies-1  Activities-and-Societies--1  Job-Title-1  \\\n",
      "0                            4                           16           45   \n",
      "1                            1                           16           24   \n",
      "2                            4                           16           22   \n",
      "3                            4                           16           29   \n",
      "4                            4                           16           44   \n",
      "5                            4                           16           10   \n",
      "6                            4                           16           19   \n",
      "7                            4                           16           23   \n",
      "8                            2                           16           30   \n",
      "9                            4                           16           36   \n",
      "10                           4                           16           37   \n",
      "11                           4                           16           14   \n",
      "12                           4                           16           27   \n",
      "13                           4                           16           34   \n",
      "14                           4                           16           43   \n",
      "15                           4                           16            7   \n",
      "16                           4                           16           26   \n",
      "17                           4                            0           25   \n",
      "18                           4                           16           12   \n",
      "19                           0                           16           15   \n",
      "20                           4                           16            3   \n",
      "21                           3                           16           13   \n",
      "22                           4                           16           45   \n",
      "23                           4                           16            4   \n",
      "24                           4                           11           21   \n",
      "25                           4                            5           42   \n",
      "26                           4                           16           33   \n",
      "27                           4                           16           17   \n",
      "28                           4                            9           11   \n",
      "29                           4                           16           45   \n",
      "30                           4                           16           17   \n",
      "31                           4                           13            5   \n",
      "32                           4                           16           45   \n",
      "33                           4                           10           32   \n",
      "34                           4                           16           35   \n",
      "35                           4                           16           20   \n",
      "36                           4                            7            1   \n",
      "37                           4                           16           30   \n",
      "38                           4                           16           45   \n",
      "39                           4                            1            1   \n",
      "40                           4                           16            2   \n",
      "41                           4                           16            1   \n",
      "42                           4                            2            6   \n",
      "43                           4                            6            1   \n",
      "44                           4                            4           39   \n",
      "45                           4                            3           38   \n",
      "46                           4                           16           31   \n",
      "47                           4                           16           45   \n",
      "48                           4                           12            8   \n",
      "49                           4                           16           41   \n",
      "50                           4                           16           40   \n",
      "51                           4                           14            9   \n",
      "52                           4                           16           45   \n",
      "53                           4                           16           45   \n",
      "54                           4                            8           28   \n",
      "55                           4                           16            0   \n",
      "56                           4                           16           45   \n",
      "57                           4                           16           45   \n",
      "58                           4                           15           16   \n",
      "59                           4                           16           18   \n",
      "\n",
      "    Company-Name-1  Dates-Employed-1  ...  Degree-Name-6  Field-Of-Study-6  \\\n",
      "0               48                36  ...              0                 0   \n",
      "1               20                27  ...              0                 0   \n",
      "2               47                 4  ...              0                 0   \n",
      "3                0                 7  ...              0                 0   \n",
      "4               43                 9  ...              0                 0   \n",
      "5               36                21  ...              0                 0   \n",
      "6                1                 2  ...              0                 0   \n",
      "7               16                11  ...              0                 0   \n",
      "8               33                22  ...              0                 0   \n",
      "9               11                 5  ...              0                 0   \n",
      "10              30                32  ...              0                 0   \n",
      "11              12                17  ...              0                 0   \n",
      "12              21                10  ...              0                 0   \n",
      "13              19                19  ...              0                 0   \n",
      "14              24                 2  ...              0                 0   \n",
      "15              23                23  ...              0                 0   \n",
      "16              46                 0  ...              0                 0   \n",
      "17              35                 5  ...              0                 0   \n",
      "18              42                13  ...              0                 0   \n",
      "19              18                26  ...              0                 0   \n",
      "20               3                21  ...              0                 0   \n",
      "21              14                29  ...              0                 0   \n",
      "22              48                36  ...              0                 0   \n",
      "23              34                14  ...              0                 0   \n",
      "24              32                 1  ...              0                 0   \n",
      "25              29                 5  ...              0                 0   \n",
      "26              45                35  ...              0                 0   \n",
      "27               5                12  ...              0                 0   \n",
      "28              31                 4  ...              0                 0   \n",
      "29              48                36  ...              0                 0   \n",
      "30               9                29  ...              0                 0   \n",
      "31              17                18  ...              0                 0   \n",
      "32              48                36  ...              0                 0   \n",
      "33               4                20  ...              0                 0   \n",
      "34              10                15  ...              0                 0   \n",
      "35               7                 3  ...              0                 0   \n",
      "36              25                17  ...              0                 0   \n",
      "37              22                31  ...              0                 0   \n",
      "38              48                36  ...              0                 0   \n",
      "39              25                33  ...              0                 0   \n",
      "40              26                 6  ...              0                 0   \n",
      "41              25                32  ...              0                 0   \n",
      "42              37                34  ...              0                 0   \n",
      "43               6                 5  ...              0                 0   \n",
      "44              28                28  ...              0                 0   \n",
      "45              13                32  ...              0                 0   \n",
      "46              41                21  ...              0                 0   \n",
      "47              48                36  ...              0                 0   \n",
      "48              15                16  ...              0                 0   \n",
      "49              39                35  ...              0                 0   \n",
      "50              40                24  ...              0                 0   \n",
      "51              27                29  ...              0                 0   \n",
      "52              48                36  ...              0                 0   \n",
      "53              48                36  ...              0                 0   \n",
      "54               2                 8  ...              0                 0   \n",
      "55              38                 5  ...              0                 0   \n",
      "56              48                36  ...              0                 0   \n",
      "57              48                36  ...              0                 0   \n",
      "58               8                25  ...              0                 0   \n",
      "59              44                30  ...              0                 0   \n",
      "\n",
      "    Activities-and-Societies-6  Activities-and-Societies--6  Job-Title-6  \\\n",
      "0                            0                            0            0   \n",
      "1                            0                            0            0   \n",
      "2                            0                            0            0   \n",
      "3                            0                            0            0   \n",
      "4                            0                            0            0   \n",
      "5                            0                            0            0   \n",
      "6                            0                            0            0   \n",
      "7                            0                            0            0   \n",
      "8                            0                            0            0   \n",
      "9                            0                            0            0   \n",
      "10                           0                            0            0   \n",
      "11                           0                            0            0   \n",
      "12                           0                            0            0   \n",
      "13                           0                            0            0   \n",
      "14                           0                            0            0   \n",
      "15                           0                            0            0   \n",
      "16                           0                            0            0   \n",
      "17                           0                            0            0   \n",
      "18                           0                            0            0   \n",
      "19                           0                            0            0   \n",
      "20                           0                            0            0   \n",
      "21                           0                            0            0   \n",
      "22                           0                            0            0   \n",
      "23                           0                            0            0   \n",
      "24                           0                            0            0   \n",
      "25                           0                            0            0   \n",
      "26                           0                            0            0   \n",
      "27                           0                            0            0   \n",
      "28                           0                            0            0   \n",
      "29                           0                            0            0   \n",
      "30                           0                            0            0   \n",
      "31                           0                            0            0   \n",
      "32                           0                            0            0   \n",
      "33                           0                            0            0   \n",
      "34                           0                            0            0   \n",
      "35                           0                            0            0   \n",
      "36                           0                            0            0   \n",
      "37                           0                            0            0   \n",
      "38                           0                            0            0   \n",
      "39                           0                            0            0   \n",
      "40                           0                            0            0   \n",
      "41                           0                            0            0   \n",
      "42                           0                            0            0   \n",
      "43                           0                            0            0   \n",
      "44                           0                            0            0   \n",
      "45                           0                            0            0   \n",
      "46                           0                            0            0   \n",
      "47                           0                            0            0   \n",
      "48                           0                            0            0   \n",
      "49                           0                            0            0   \n",
      "50                           0                            0            0   \n",
      "51                           0                            0            0   \n",
      "52                           0                            0            0   \n",
      "53                           0                            0            0   \n",
      "54                           0                            0            0   \n",
      "55                           0                            0            0   \n",
      "56                           0                            0            0   \n",
      "57                           0                            0            0   \n",
      "58                           0                            0            0   \n",
      "59                           0                            0            0   \n",
      "\n",
      "    Company-Name-6  Dates-Employed-6  Employment-Duration-6  Location-6  \\\n",
      "0                0                 0                      0           0   \n",
      "1                0                 0                      0           0   \n",
      "2                0                 0                      0           0   \n",
      "3                0                 0                      0           0   \n",
      "4                0                 0                      0           0   \n",
      "5                0                 0                      0           0   \n",
      "6                0                 0                      0           0   \n",
      "7                0                 0                      0           0   \n",
      "8                0                 0                      0           0   \n",
      "9                0                 0                      0           0   \n",
      "10               0                 0                      0           0   \n",
      "11               0                 0                      0           0   \n",
      "12               0                 0                      0           0   \n",
      "13               0                 0                      0           0   \n",
      "14               0                 0                      0           0   \n",
      "15               0                 0                      0           0   \n",
      "16               0                 0                      0           0   \n",
      "17               0                 0                      0           0   \n",
      "18               0                 0                      0           0   \n",
      "19               0                 0                      0           0   \n",
      "20               0                 0                      0           0   \n",
      "21               0                 0                      0           0   \n",
      "22               0                 0                      0           0   \n",
      "23               0                 0                      0           0   \n",
      "24               0                 0                      0           0   \n",
      "25               0                 0                      0           0   \n",
      "26               0                 0                      0           0   \n",
      "27               0                 0                      0           0   \n",
      "28               0                 0                      0           0   \n",
      "29               0                 0                      0           0   \n",
      "30               0                 0                      0           0   \n",
      "31               0                 0                      0           0   \n",
      "32               0                 0                      0           0   \n",
      "33               0                 0                      0           0   \n",
      "34               0                 0                      0           0   \n",
      "35               0                 0                      0           0   \n",
      "36               0                 0                      0           0   \n",
      "37               0                 0                      0           0   \n",
      "38               0                 0                      0           0   \n",
      "39               0                 0                      0           0   \n",
      "40               0                 0                      0           0   \n",
      "41               0                 0                      0           0   \n",
      "42               0                 0                      0           0   \n",
      "43               0                 0                      0           0   \n",
      "44               0                 0                      0           0   \n",
      "45               0                 0                      0           0   \n",
      "46               0                 0                      0           0   \n",
      "47               0                 0                      0           0   \n",
      "48               0                 0                      0           0   \n",
      "49               0                 0                      0           0   \n",
      "50               0                 0                      0           0   \n",
      "51               0                 0                      0           0   \n",
      "52               0                 0                      0           0   \n",
      "53               0                 0                      0           0   \n",
      "54               0                 0                      0           0   \n",
      "55               0                 0                      0           0   \n",
      "56               0                 0                      0           0   \n",
      "57               0                 0                      0           0   \n",
      "58               0                 0                      0           0   \n",
      "59               0                 0                      0           0   \n",
      "\n",
      "    skills  \n",
      "0        4  \n",
      "1        4  \n",
      "2        4  \n",
      "3        4  \n",
      "4        4  \n",
      "5        4  \n",
      "6        0  \n",
      "7        4  \n",
      "8        4  \n",
      "9        4  \n",
      "10       4  \n",
      "11       4  \n",
      "12       4  \n",
      "13       4  \n",
      "14       4  \n",
      "15       4  \n",
      "16       4  \n",
      "17       1  \n",
      "18       4  \n",
      "19       4  \n",
      "20       4  \n",
      "21       4  \n",
      "22       4  \n",
      "23       4  \n",
      "24       4  \n",
      "25       4  \n",
      "26       4  \n",
      "27       4  \n",
      "28       4  \n",
      "29       4  \n",
      "30       4  \n",
      "31       4  \n",
      "32       4  \n",
      "33       2  \n",
      "34       4  \n",
      "35       4  \n",
      "36       4  \n",
      "37       4  \n",
      "38       4  \n",
      "39       4  \n",
      "40       4  \n",
      "41       4  \n",
      "42       4  \n",
      "43       4  \n",
      "44       4  \n",
      "45       4  \n",
      "46       3  \n",
      "47       4  \n",
      "48       4  \n",
      "49       4  \n",
      "50       4  \n",
      "51       4  \n",
      "52       4  \n",
      "53       4  \n",
      "54       4  \n",
      "55       4  \n",
      "56       4  \n",
      "57       4  \n",
      "58       4  \n",
      "59       4  \n",
      "\n",
      "[60 rows x 63 columns]\n"
     ]
    }
   ],
   "source": [
    "# One hot code our data set\n",
    "data = linkedIn_data.apply(label.fit_transform)\n",
    "enc.fit(x)\n",
    "onehotlabels = enc.transform(x).toarray()\n",
    "onehotlabels.shape\n",
    "print(data)"
   ]
  },
  {
   "cell_type": "markdown",
   "id": "91c4d670",
   "metadata": {},
   "source": [
    "# PCA - Principle Component Analysis"
   ]
  },
  {
   "cell_type": "markdown",
   "id": "7ffe46b0",
   "metadata": {},
   "source": [
    "#### Why are we using PCA?\n",
    "\n",
    "Principle component analysis will reduces the dimensionality of the machine learning program to classify our data.\n",
    "    \n",
    "- We'll be using the data sets from our linkedin scraper.\n",
    "- Reduce the dimension to n of dimension"
   ]
  },
  {
   "cell_type": "code",
   "execution_count": 78,
   "id": "1ca92b44",
   "metadata": {},
   "outputs": [
    {
     "data": {
      "text/plain": [
       "Index(['Headline', 'Industry', 'College-Name-1', 'Degree-Name-1',\n",
       "       'Field-Of-Study-1', 'Activities-and-Societies-1',\n",
       "       'Activities-and-Societies--1', 'Job-Title-1', 'Company-Name-1',\n",
       "       'Dates-Employed-1', 'Employment-Duration-1', 'Location-1',\n",
       "       'College-Name-2', 'Degree-Name-2', 'Field-Of-Study-2',\n",
       "       'Activities-and-Societies-2', 'Activities-and-Societies--2',\n",
       "       'Job-Title-2', 'Company-Name-2', 'Dates-Employed-2',\n",
       "       'Employment-Duration-2', 'Location-2', 'College-Name-3',\n",
       "       'Degree-Name-3', 'Field-Of-Study-3', 'Activities-and-Societies-3',\n",
       "       'Activities-and-Societies--3', 'Job-Title-3', 'Company-Name-3',\n",
       "       'Dates-Employed-3', 'Employment-Duration-3', 'Location-3',\n",
       "       'College-Name-4', 'Degree-Name-4', 'Field-Of-Study-4',\n",
       "       'Activities-and-Societies-4', 'Activities-and-Societies--4',\n",
       "       'Job-Title-4', 'Company-Name-4', 'Dates-Employed-4',\n",
       "       'Employment-Duration-4', 'Location-4', 'College-Name-5',\n",
       "       'Degree-Name-5', 'Field-Of-Study-5', 'Activities-and-Societies-5',\n",
       "       'Activities-and-Societies--5', 'Job-Title-5', 'Company-Name-5',\n",
       "       'Dates-Employed-5', 'Employment-Duration-5', 'Location-5',\n",
       "       'College-Name-6', 'Degree-Name-6', 'Field-Of-Study-6',\n",
       "       'Activities-and-Societies-6', 'Activities-and-Societies--6',\n",
       "       'Job-Title-6', 'Company-Name-6', 'Dates-Employed-6',\n",
       "       'Employment-Duration-6', 'Location-6', 'skills'],\n",
       "      dtype='object')"
      ]
     },
     "execution_count": 78,
     "metadata": {},
     "output_type": "execute_result"
    }
   ],
   "source": [
    "# Accessing our data sets keys\n",
    "data.keys()"
   ]
  },
  {
   "cell_type": "code",
   "execution_count": 83,
   "id": "7dafeae1",
   "metadata": {},
   "outputs": [],
   "source": [
    "# create a dataframe using the data and columns names\n",
    "df = pd.DataFrame(data)"
   ]
  },
  {
   "cell_type": "code",
   "execution_count": 84,
   "id": "8fc12371",
   "metadata": {
    "scrolled": true
   },
   "outputs": [
    {
     "data": {
      "text/html": [
       "<div>\n",
       "<style scoped>\n",
       "    .dataframe tbody tr th:only-of-type {\n",
       "        vertical-align: middle;\n",
       "    }\n",
       "\n",
       "    .dataframe tbody tr th {\n",
       "        vertical-align: top;\n",
       "    }\n",
       "\n",
       "    .dataframe thead th {\n",
       "        text-align: right;\n",
       "    }\n",
       "</style>\n",
       "<table border=\"1\" class=\"dataframe\">\n",
       "  <thead>\n",
       "    <tr style=\"text-align: right;\">\n",
       "      <th></th>\n",
       "      <th>Headline</th>\n",
       "      <th>Industry</th>\n",
       "      <th>College-Name-1</th>\n",
       "      <th>Degree-Name-1</th>\n",
       "      <th>Field-Of-Study-1</th>\n",
       "      <th>Activities-and-Societies-1</th>\n",
       "      <th>Activities-and-Societies--1</th>\n",
       "      <th>Job-Title-1</th>\n",
       "      <th>Company-Name-1</th>\n",
       "      <th>Dates-Employed-1</th>\n",
       "      <th>...</th>\n",
       "      <th>Degree-Name-6</th>\n",
       "      <th>Field-Of-Study-6</th>\n",
       "      <th>Activities-and-Societies-6</th>\n",
       "      <th>Activities-and-Societies--6</th>\n",
       "      <th>Job-Title-6</th>\n",
       "      <th>Company-Name-6</th>\n",
       "      <th>Dates-Employed-6</th>\n",
       "      <th>Employment-Duration-6</th>\n",
       "      <th>Location-6</th>\n",
       "      <th>skills</th>\n",
       "    </tr>\n",
       "  </thead>\n",
       "  <tbody>\n",
       "    <tr>\n",
       "      <th>0</th>\n",
       "      <td>13</td>\n",
       "      <td>3</td>\n",
       "      <td>48</td>\n",
       "      <td>35</td>\n",
       "      <td>40</td>\n",
       "      <td>4</td>\n",
       "      <td>16</td>\n",
       "      <td>45</td>\n",
       "      <td>48</td>\n",
       "      <td>36</td>\n",
       "      <td>...</td>\n",
       "      <td>0</td>\n",
       "      <td>0</td>\n",
       "      <td>0</td>\n",
       "      <td>0</td>\n",
       "      <td>0</td>\n",
       "      <td>0</td>\n",
       "      <td>0</td>\n",
       "      <td>0</td>\n",
       "      <td>0</td>\n",
       "      <td>4</td>\n",
       "    </tr>\n",
       "    <tr>\n",
       "      <th>1</th>\n",
       "      <td>33</td>\n",
       "      <td>3</td>\n",
       "      <td>36</td>\n",
       "      <td>30</td>\n",
       "      <td>13</td>\n",
       "      <td>1</td>\n",
       "      <td>16</td>\n",
       "      <td>24</td>\n",
       "      <td>20</td>\n",
       "      <td>27</td>\n",
       "      <td>...</td>\n",
       "      <td>0</td>\n",
       "      <td>0</td>\n",
       "      <td>0</td>\n",
       "      <td>0</td>\n",
       "      <td>0</td>\n",
       "      <td>0</td>\n",
       "      <td>0</td>\n",
       "      <td>0</td>\n",
       "      <td>0</td>\n",
       "      <td>4</td>\n",
       "    </tr>\n",
       "    <tr>\n",
       "      <th>2</th>\n",
       "      <td>34</td>\n",
       "      <td>3</td>\n",
       "      <td>6</td>\n",
       "      <td>12</td>\n",
       "      <td>0</td>\n",
       "      <td>4</td>\n",
       "      <td>16</td>\n",
       "      <td>22</td>\n",
       "      <td>47</td>\n",
       "      <td>4</td>\n",
       "      <td>...</td>\n",
       "      <td>0</td>\n",
       "      <td>0</td>\n",
       "      <td>0</td>\n",
       "      <td>0</td>\n",
       "      <td>0</td>\n",
       "      <td>0</td>\n",
       "      <td>0</td>\n",
       "      <td>0</td>\n",
       "      <td>0</td>\n",
       "      <td>4</td>\n",
       "    </tr>\n",
       "    <tr>\n",
       "      <th>3</th>\n",
       "      <td>42</td>\n",
       "      <td>3</td>\n",
       "      <td>40</td>\n",
       "      <td>33</td>\n",
       "      <td>32</td>\n",
       "      <td>4</td>\n",
       "      <td>16</td>\n",
       "      <td>29</td>\n",
       "      <td>0</td>\n",
       "      <td>7</td>\n",
       "      <td>...</td>\n",
       "      <td>0</td>\n",
       "      <td>0</td>\n",
       "      <td>0</td>\n",
       "      <td>0</td>\n",
       "      <td>0</td>\n",
       "      <td>0</td>\n",
       "      <td>0</td>\n",
       "      <td>0</td>\n",
       "      <td>0</td>\n",
       "      <td>4</td>\n",
       "    </tr>\n",
       "    <tr>\n",
       "      <th>4</th>\n",
       "      <td>56</td>\n",
       "      <td>3</td>\n",
       "      <td>4</td>\n",
       "      <td>14</td>\n",
       "      <td>1</td>\n",
       "      <td>4</td>\n",
       "      <td>16</td>\n",
       "      <td>44</td>\n",
       "      <td>43</td>\n",
       "      <td>9</td>\n",
       "      <td>...</td>\n",
       "      <td>0</td>\n",
       "      <td>0</td>\n",
       "      <td>0</td>\n",
       "      <td>0</td>\n",
       "      <td>0</td>\n",
       "      <td>0</td>\n",
       "      <td>0</td>\n",
       "      <td>0</td>\n",
       "      <td>0</td>\n",
       "      <td>4</td>\n",
       "    </tr>\n",
       "  </tbody>\n",
       "</table>\n",
       "<p>5 rows × 63 columns</p>\n",
       "</div>"
      ],
      "text/plain": [
       "   Headline  Industry  College-Name-1  Degree-Name-1  Field-Of-Study-1  \\\n",
       "0        13         3              48             35                40   \n",
       "1        33         3              36             30                13   \n",
       "2        34         3               6             12                 0   \n",
       "3        42         3              40             33                32   \n",
       "4        56         3               4             14                 1   \n",
       "\n",
       "   Activities-and-Societies-1  Activities-and-Societies--1  Job-Title-1  \\\n",
       "0                           4                           16           45   \n",
       "1                           1                           16           24   \n",
       "2                           4                           16           22   \n",
       "3                           4                           16           29   \n",
       "4                           4                           16           44   \n",
       "\n",
       "   Company-Name-1  Dates-Employed-1  ...  Degree-Name-6  Field-Of-Study-6  \\\n",
       "0              48                36  ...              0                 0   \n",
       "1              20                27  ...              0                 0   \n",
       "2              47                 4  ...              0                 0   \n",
       "3               0                 7  ...              0                 0   \n",
       "4              43                 9  ...              0                 0   \n",
       "\n",
       "   Activities-and-Societies-6  Activities-and-Societies--6  Job-Title-6  \\\n",
       "0                           0                            0            0   \n",
       "1                           0                            0            0   \n",
       "2                           0                            0            0   \n",
       "3                           0                            0            0   \n",
       "4                           0                            0            0   \n",
       "\n",
       "   Company-Name-6  Dates-Employed-6  Employment-Duration-6  Location-6  skills  \n",
       "0               0                 0                      0           0       4  \n",
       "1               0                 0                      0           0       4  \n",
       "2               0                 0                      0           0       4  \n",
       "3               0                 0                      0           0       4  \n",
       "4               0                 0                      0           0       4  \n",
       "\n",
       "[5 rows x 63 columns]"
      ]
     },
     "execution_count": 84,
     "metadata": {},
     "output_type": "execute_result"
    }
   ],
   "source": [
    "df.head()"
   ]
  },
  {
   "cell_type": "markdown",
   "id": "bffbaa6c",
   "metadata": {},
   "source": [
    "- Our data set contains 63 features in this dataset\n",
    "- label is not added to this dataframe"
   ]
  },
  {
   "cell_type": "markdown",
   "id": "43dc866c",
   "metadata": {},
   "source": [
    "## Standardize the data\n",
    "\n",
    "- It is difficult to visualize our high dimensional data\n",
    "- We'll use PCA to find the first two principle components, and visualize the data in a new two-dimensonal space.\n",
    "- Before using PCA we'll need to scale our data so that our feature has a single unit of variance."
   ]
  },
  {
   "cell_type": "code",
   "execution_count": 71,
   "id": "c02dd483",
   "metadata": {},
   "outputs": [
    {
     "name": "stdout",
     "output_type": "stream",
     "text": [
      "StandardScaler()\n"
     ]
    }
   ],
   "source": [
    "scaler = StandardScaler()\n",
    "scaler.fit(df)"
   ]
  },
  {
   "cell_type": "code",
   "execution_count": 86,
   "id": "dd857559",
   "metadata": {},
   "outputs": [],
   "source": [
    "scaled_data = scaler.transform(df)"
   ]
  },
  {
   "cell_type": "markdown",
   "id": "d3a37cde",
   "metadata": {},
   "source": [
    "## Transform Data with PCA\n",
    "- We instantiate a PCA object, find the principle components using the fit method\n",
    "- Apply the dimensionality reduction by calling transform()"
   ]
  },
  {
   "cell_type": "code",
   "execution_count": 93,
   "id": "6f6adcda",
   "metadata": {},
   "outputs": [],
   "source": [
    "from sklearn.decomposition import PCA"
   ]
  },
  {
   "cell_type": "code",
   "execution_count": 94,
   "id": "b950eb4b",
   "metadata": {},
   "outputs": [],
   "source": [
    "pca = PCA(n_components=2)"
   ]
  },
  {
   "cell_type": "code",
   "execution_count": 95,
   "id": "18742233",
   "metadata": {},
   "outputs": [
    {
     "data": {
      "text/plain": [
       "PCA(n_components=2)"
      ]
     },
     "execution_count": 95,
     "metadata": {},
     "output_type": "execute_result"
    }
   ],
   "source": [
    "pca.fit(scaled_data)"
   ]
  },
  {
   "cell_type": "markdown",
   "id": "e43bc559",
   "metadata": {},
   "source": [
    "- Transform this data into its first 2 principle components"
   ]
  },
  {
   "cell_type": "code",
   "execution_count": 101,
   "id": "91de3027",
   "metadata": {},
   "outputs": [],
   "source": [
    "x_pca = pca.transform(scaled_data)"
   ]
  },
  {
   "cell_type": "code",
   "execution_count": 102,
   "id": "da013b38",
   "metadata": {},
   "outputs": [
    {
     "data": {
      "text/plain": [
       "(60, 63)"
      ]
     },
     "execution_count": 102,
     "metadata": {},
     "output_type": "execute_result"
    }
   ],
   "source": [
    "# Shape the data\n",
    "scaled_data.shape"
   ]
  },
  {
   "cell_type": "code",
   "execution_count": 103,
   "id": "a19a3a9c",
   "metadata": {},
   "outputs": [
    {
     "data": {
      "text/plain": [
       "(60, 2)"
      ]
     },
     "execution_count": 103,
     "metadata": {},
     "output_type": "execute_result"
    }
   ],
   "source": [
    "x_pca.shape"
   ]
  },
  {
   "cell_type": "markdown",
   "id": "f75bda4e",
   "metadata": {},
   "source": [
    "By using PCA we've reduced our data dimensionality by 2. "
   ]
  },
  {
   "cell_type": "markdown",
   "id": "1d53dbcd",
   "metadata": {},
   "source": [
    "### Plotting the Dimensions"
   ]
  },
  {
   "cell_type": "code",
   "execution_count": 110,
   "id": "f2a02430",
   "metadata": {},
   "outputs": [
    {
     "data": {
      "text/plain": [
       "Text(0, 0.5, 'Second principle component')"
      ]
     },
     "execution_count": 110,
     "metadata": {},
     "output_type": "execute_result"
    },
    {
     "data": {
      "image/png": "[encoded data removed]",
      "text/plain": [
       "<Figure size 576x432 with 1 Axes>"
      ]
     },
     "metadata": {
      "needs_background": "light"
     },
     "output_type": "display_data"
    }
   ],
   "source": [
    "plt.figure(figsize=(8,6))\n",
    "plt.scatter(x_pca[:,0],x_pca[:,1], c=data['Industry'], cmap='plasma')\n",
    "plt.xlabel('First principle component')\n",
    "plt.ylabel('Second principle component')"
   ]
  },
  {
   "cell_type": "code",
   "execution_count": 111,
   "id": "41b4f231",
   "metadata": {},
   "outputs": [
    {
     "data": {
      "text/plain": [
       "array([[ 2.86968026e-02,  7.56686802e-02,  1.78106863e-01,\n",
       "         1.32980415e-01,  1.39546713e-01,  5.48384385e-04,\n",
       "         1.86599251e-02,  1.84843058e-01,  1.61272346e-01,\n",
       "         1.54452488e-01,  1.71211661e-01,  1.83073891e-01,\n",
       "         1.78241381e-01,  1.32542859e-01,  1.47446056e-01,\n",
       "         6.02801923e-02,  7.28866698e-02,  2.00177630e-01,\n",
       "         1.25080593e-01,  1.65231934e-01,  1.30685003e-01,\n",
       "         1.45710500e-01,  1.49857978e-01,  1.02404721e-01,\n",
       "         9.54098395e-02,  0.00000000e+00,  6.80997911e-02,\n",
       "         1.94410395e-01,  1.95896190e-01,  1.85603702e-01,\n",
       "         1.93701800e-01,  1.89269653e-01,  0.00000000e+00,\n",
       "         0.00000000e+00,  0.00000000e+00,  0.00000000e+00,\n",
       "         0.00000000e+00,  1.83481446e-01,  1.77559074e-01,\n",
       "         1.92270192e-01,  1.95861494e-01,  2.04779845e-01,\n",
       "         0.00000000e+00,  0.00000000e+00,  0.00000000e+00,\n",
       "         0.00000000e+00,  0.00000000e+00,  1.91115770e-01,\n",
       "         1.93830388e-01,  1.78893469e-01,  1.75439498e-01,\n",
       "         1.60428534e-01,  0.00000000e+00,  0.00000000e+00,\n",
       "         0.00000000e+00,  0.00000000e+00,  0.00000000e+00,\n",
       "         0.00000000e+00,  0.00000000e+00,  0.00000000e+00,\n",
       "         0.00000000e+00,  0.00000000e+00,  1.70592891e-02],\n",
       "       [-2.25175858e-01, -9.30822041e-02, -7.23087429e-02,\n",
       "        -3.61948257e-01,  4.71990563e-02,  6.02561131e-04,\n",
       "        -4.36835057e-01, -2.49651960e-01, -9.50388734e-02,\n",
       "         5.76294409e-02, -9.98882069e-02, -1.05366089e-01,\n",
       "         4.07279156e-02,  1.34087864e-01,  2.79223305e-01,\n",
       "         1.23948016e-02, -3.09949028e-01, -1.46235672e-02,\n",
       "        -1.40085608e-01, -1.23292739e-01, -1.12717973e-01,\n",
       "        -7.16040420e-02,  1.80172840e-01,  2.51030643e-01,\n",
       "         2.96403598e-01, -5.83125981e-27, -3.80595652e-02,\n",
       "         1.33465080e-03, -3.62476923e-02,  1.47020588e-01,\n",
       "         7.83483934e-02,  8.38685160e-04,  1.14377953e-27,\n",
       "         1.30819880e-27, -6.92656622e-28,  4.62418944e-28,\n",
       "         3.27134922e-30, -2.96061045e-02,  1.22907706e-01,\n",
       "         7.19837250e-02,  1.12694645e-01, -3.68413368e-03,\n",
       "         0.00000000e+00,  0.00000000e+00,  0.00000000e+00,\n",
       "         0.00000000e+00,  0.00000000e+00,  1.21231831e-02,\n",
       "         2.01140248e-02,  1.23296716e-01, -6.77054541e-02,\n",
       "         2.75486017e-02,  0.00000000e+00,  0.00000000e+00,\n",
       "         0.00000000e+00,  0.00000000e+00,  0.00000000e+00,\n",
       "         0.00000000e+00,  0.00000000e+00,  0.00000000e+00,\n",
       "         0.00000000e+00,  0.00000000e+00,  7.73703951e-03]])"
      ]
     },
     "execution_count": 111,
     "metadata": {},
     "output_type": "execute_result"
    }
   ],
   "source": [
    "pca.components_"
   ]
  },
  {
   "cell_type": "markdown",
   "id": "97206f40",
   "metadata": {},
   "source": [
    "Visualizing the relationship with a heatmap:"
   ]
  },
  {
   "cell_type": "code",
   "execution_count": 117,
   "id": "d535a5c2",
   "metadata": {},
   "outputs": [
    {
     "ename": "KeyError",
     "evalue": "''",
     "output_type": "error",
     "traceback": [
      "\u001b[0;31m---------------------------------------------------------------------------\u001b[0m",
      "\u001b[0;31mKeyError\u001b[0m                                  Traceback (most recent call last)",
      "\u001b[0;32m~/opt/anaconda3/lib/python3.8/site-packages/pandas/core/indexes/base.py\u001b[0m in \u001b[0;36mget_loc\u001b[0;34m(self, key, method, tolerance)\u001b[0m\n\u001b[1;32m   3079\u001b[0m             \u001b[0;32mtry\u001b[0m\u001b[0;34m:\u001b[0m\u001b[0;34m\u001b[0m\u001b[0;34m\u001b[0m\u001b[0m\n\u001b[0;32m-> 3080\u001b[0;31m                 \u001b[0;32mreturn\u001b[0m \u001b[0mself\u001b[0m\u001b[0;34m.\u001b[0m\u001b[0m_engine\u001b[0m\u001b[0;34m.\u001b[0m\u001b[0mget_loc\u001b[0m\u001b[0;34m(\u001b[0m\u001b[0mcasted_key\u001b[0m\u001b[0;34m)\u001b[0m\u001b[0;34m\u001b[0m\u001b[0;34m\u001b[0m\u001b[0m\n\u001b[0m\u001b[1;32m   3081\u001b[0m             \u001b[0;32mexcept\u001b[0m \u001b[0mKeyError\u001b[0m \u001b[0;32mas\u001b[0m \u001b[0merr\u001b[0m\u001b[0;34m:\u001b[0m\u001b[0;34m\u001b[0m\u001b[0;34m\u001b[0m\u001b[0m\n",
      "\u001b[0;32mpandas/_libs/index.pyx\u001b[0m in \u001b[0;36mpandas._libs.index.IndexEngine.get_loc\u001b[0;34m()\u001b[0m\n",
      "\u001b[0;32mpandas/_libs/index.pyx\u001b[0m in \u001b[0;36mpandas._libs.index.IndexEngine.get_loc\u001b[0;34m()\u001b[0m\n",
      "\u001b[0;32mpandas/_libs/hashtable_class_helper.pxi\u001b[0m in \u001b[0;36mpandas._libs.hashtable.PyObjectHashTable.get_item\u001b[0;34m()\u001b[0m\n",
      "\u001b[0;32mpandas/_libs/hashtable_class_helper.pxi\u001b[0m in \u001b[0;36mpandas._libs.hashtable.PyObjectHashTable.get_item\u001b[0;34m()\u001b[0m\n",
      "\u001b[0;31mKeyError\u001b[0m: ''",
      "\nThe above exception was the direct cause of the following exception:\n",
      "\u001b[0;31mKeyError\u001b[0m                                  Traceback (most recent call last)",
      "\u001b[0;32m<ipython-input-117-a66189606f97>\u001b[0m in \u001b[0;36m<module>\u001b[0;34m\u001b[0m\n\u001b[0;32m----> 1\u001b[0;31m \u001b[0mdf_comp\u001b[0m \u001b[0;34m=\u001b[0m \u001b[0mpd\u001b[0m\u001b[0;34m.\u001b[0m\u001b[0mDataFrame\u001b[0m\u001b[0;34m(\u001b[0m\u001b[0mpca\u001b[0m\u001b[0;34m.\u001b[0m\u001b[0mcomponents_\u001b[0m\u001b[0;34m,\u001b[0m \u001b[0mcolumns\u001b[0m\u001b[0;34m=\u001b[0m\u001b[0mdata\u001b[0m\u001b[0;34m[\u001b[0m\u001b[0;34m''\u001b[0m\u001b[0;34m]\u001b[0m\u001b[0;34m)\u001b[0m\u001b[0;34m\u001b[0m\u001b[0;34m\u001b[0m\u001b[0m\n\u001b[0m",
      "\u001b[0;32m~/opt/anaconda3/lib/python3.8/site-packages/pandas/core/frame.py\u001b[0m in \u001b[0;36m__getitem__\u001b[0;34m(self, key)\u001b[0m\n\u001b[1;32m   3022\u001b[0m             \u001b[0;32mif\u001b[0m \u001b[0mself\u001b[0m\u001b[0;34m.\u001b[0m\u001b[0mcolumns\u001b[0m\u001b[0;34m.\u001b[0m\u001b[0mnlevels\u001b[0m \u001b[0;34m>\u001b[0m \u001b[0;36m1\u001b[0m\u001b[0;34m:\u001b[0m\u001b[0;34m\u001b[0m\u001b[0;34m\u001b[0m\u001b[0m\n\u001b[1;32m   3023\u001b[0m                 \u001b[0;32mreturn\u001b[0m \u001b[0mself\u001b[0m\u001b[0;34m.\u001b[0m\u001b[0m_getitem_multilevel\u001b[0m\u001b[0;34m(\u001b[0m\u001b[0mkey\u001b[0m\u001b[0;34m)\u001b[0m\u001b[0;34m\u001b[0m\u001b[0;34m\u001b[0m\u001b[0m\n\u001b[0;32m-> 3024\u001b[0;31m             \u001b[0mindexer\u001b[0m \u001b[0;34m=\u001b[0m \u001b[0mself\u001b[0m\u001b[0;34m.\u001b[0m\u001b[0mcolumns\u001b[0m\u001b[0;34m.\u001b[0m\u001b[0mget_loc\u001b[0m\u001b[0;34m(\u001b[0m\u001b[0mkey\u001b[0m\u001b[0;34m)\u001b[0m\u001b[0;34m\u001b[0m\u001b[0;34m\u001b[0m\u001b[0m\n\u001b[0m\u001b[1;32m   3025\u001b[0m             \u001b[0;32mif\u001b[0m \u001b[0mis_integer\u001b[0m\u001b[0;34m(\u001b[0m\u001b[0mindexer\u001b[0m\u001b[0;34m)\u001b[0m\u001b[0;34m:\u001b[0m\u001b[0;34m\u001b[0m\u001b[0;34m\u001b[0m\u001b[0m\n\u001b[1;32m   3026\u001b[0m                 \u001b[0mindexer\u001b[0m \u001b[0;34m=\u001b[0m \u001b[0;34m[\u001b[0m\u001b[0mindexer\u001b[0m\u001b[0;34m]\u001b[0m\u001b[0;34m\u001b[0m\u001b[0;34m\u001b[0m\u001b[0m\n",
      "\u001b[0;32m~/opt/anaconda3/lib/python3.8/site-packages/pandas/core/indexes/base.py\u001b[0m in \u001b[0;36mget_loc\u001b[0;34m(self, key, method, tolerance)\u001b[0m\n\u001b[1;32m   3080\u001b[0m                 \u001b[0;32mreturn\u001b[0m \u001b[0mself\u001b[0m\u001b[0;34m.\u001b[0m\u001b[0m_engine\u001b[0m\u001b[0;34m.\u001b[0m\u001b[0mget_loc\u001b[0m\u001b[0;34m(\u001b[0m\u001b[0mcasted_key\u001b[0m\u001b[0;34m)\u001b[0m\u001b[0;34m\u001b[0m\u001b[0;34m\u001b[0m\u001b[0m\n\u001b[1;32m   3081\u001b[0m             \u001b[0;32mexcept\u001b[0m \u001b[0mKeyError\u001b[0m \u001b[0;32mas\u001b[0m \u001b[0merr\u001b[0m\u001b[0;34m:\u001b[0m\u001b[0;34m\u001b[0m\u001b[0;34m\u001b[0m\u001b[0m\n\u001b[0;32m-> 3082\u001b[0;31m                 \u001b[0;32mraise\u001b[0m \u001b[0mKeyError\u001b[0m\u001b[0;34m(\u001b[0m\u001b[0mkey\u001b[0m\u001b[0;34m)\u001b[0m \u001b[0;32mfrom\u001b[0m \u001b[0merr\u001b[0m\u001b[0;34m\u001b[0m\u001b[0;34m\u001b[0m\u001b[0m\n\u001b[0m\u001b[1;32m   3083\u001b[0m \u001b[0;34m\u001b[0m\u001b[0m\n\u001b[1;32m   3084\u001b[0m         \u001b[0;32mif\u001b[0m \u001b[0mtolerance\u001b[0m \u001b[0;32mis\u001b[0m \u001b[0;32mnot\u001b[0m \u001b[0;32mNone\u001b[0m\u001b[0;34m:\u001b[0m\u001b[0;34m\u001b[0m\u001b[0;34m\u001b[0m\u001b[0m\n",
      "\u001b[0;31mKeyError\u001b[0m: ''"
     ]
    }
   ],
   "source": [
    "df_comp = pd.DataFrame(pca.components_, columns=data[''])"
   ]
  },
  {
   "cell_type": "code",
   "execution_count": 113,
   "id": "c8e8ee55",
   "metadata": {},
   "outputs": [
    {
     "ename": "NameError",
     "evalue": "name 'df_comp' is not defined",
     "output_type": "error",
     "traceback": [
      "\u001b[0;31m---------------------------------------------------------------------------\u001b[0m",
      "\u001b[0;31mNameError\u001b[0m                                 Traceback (most recent call last)",
      "\u001b[0;32m<ipython-input-113-1286aa21803f>\u001b[0m in \u001b[0;36m<module>\u001b[0;34m\u001b[0m\n\u001b[1;32m      1\u001b[0m \u001b[0mplt\u001b[0m\u001b[0;34m.\u001b[0m\u001b[0mfigure\u001b[0m\u001b[0;34m(\u001b[0m\u001b[0mfigsize\u001b[0m\u001b[0;34m=\u001b[0m\u001b[0;34m(\u001b[0m\u001b[0;36m12\u001b[0m\u001b[0;34m,\u001b[0m\u001b[0;36m6\u001b[0m\u001b[0;34m)\u001b[0m\u001b[0;34m)\u001b[0m\u001b[0;34m\u001b[0m\u001b[0;34m\u001b[0m\u001b[0m\n\u001b[0;32m----> 2\u001b[0;31m \u001b[0msns\u001b[0m\u001b[0;34m.\u001b[0m\u001b[0mheatmap\u001b[0m\u001b[0;34m(\u001b[0m\u001b[0mdf_comp\u001b[0m\u001b[0;34m,\u001b[0m \u001b[0mcmap\u001b[0m\u001b[0;34m=\u001b[0m\u001b[0;34m'plasma'\u001b[0m\u001b[0;34m,\u001b[0m\u001b[0;34m)\u001b[0m\u001b[0;34m\u001b[0m\u001b[0;34m\u001b[0m\u001b[0m\n\u001b[0m",
      "\u001b[0;31mNameError\u001b[0m: name 'df_comp' is not defined"
     ]
    },
    {
     "data": {
      "text/plain": [
       "<Figure size 864x432 with 0 Axes>"
      ]
     },
     "metadata": {},
     "output_type": "display_data"
    }
   ],
   "source": [
    "plt.figure(figsize=(12,6))\n",
    "sns.heatmap(df_comp, cmap='plasma',)"
   ]
  }
 ],
 "metadata": {
  "kernelspec": {
   "display_name": "Python 3",
   "language": "python",
   "name": "python3"
  },
  "language_info": {
   "codemirror_mode": {
    "name": "ipython",
    "version": 3
   },
   "file_extension": ".py",
   "mimetype": "text/x-python",
   "name": "python",
   "nbconvert_exporter": "python",
   "pygments_lexer": "ipython3",
   "version": "3.8.8"
  }
 },
 "nbformat": 4,
 "nbformat_minor": 5
}
