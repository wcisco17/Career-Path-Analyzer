{
 "cells": [
  {
   "cell_type": "markdown",
   "id": "6931d29d",
   "metadata": {},
   "source": [
    "# PCA and K-Nearest Neighbor Algorithm"
   ]
  },
  {
   "cell_type": "markdown",
   "id": "aeadcb02",
   "metadata": {},
   "source": [
    "In this section we apply One hot encoding, PCA and K-Nearest Neighbor to determine the profile that relates to yours the most. We use first encode our data set numerically by using One Hot Encoding. Next we apply PCA to reduce the dimensionality of our data, finally we test our data against KNN and check the accuracy score of the nearest profile to you. The aim is to get close to 80% and better."
   ]
  },
  {
   "cell_type": "markdown",
   "id": "95c9bc8a",
   "metadata": {},
   "source": [
    "## Libraries\n",
    "\n",
    "Here's a brief description of the purpose for each library.\n",
    "\n",
    "- matplotlib, we use matplotlib as visualization tool.\n",
    "- pandas, for data analysis.\n",
    "- preprocessing & StandardScaler, mainly used for one encoding our data set."
   ]
  },
  {
   "cell_type": "code",
   "execution_count": 5,
   "id": "3dcafab5-06f4-41bf-b1f6-6acefdec173c",
   "metadata": {},
   "outputs": [],
   "source": [
    "import matplotlib.pyplot as plt\n",
    "import numpy as np\n",
    "import pandas as pd\n",
    "from sklearn import preprocessing\n",
    "from sklearn.preprocessing import StandardScaler\n"
   ]
  },
  {
   "cell_type": "markdown",
   "id": "c6d8b0a9-938e-4360-877d-453efc255a62",
   "metadata": {},
   "source": [
    "### Preprocessing the data set\n",
    "\n",
    "In this section we encode our data set using the sklearn library and we run One hot encode to our features to represent a count of words. One hot encode is used in most machine learning application as a way to translate string values into a binary representation. "
   ]
  },
  {
   "cell_type": "code",
   "execution_count": 6,
   "id": "a588be46",
   "metadata": {},
   "outputs": [],
   "source": [
    "# Prepocessing the data set (One hot coder with sklearn)\n",
    "label = preprocessing.LabelEncoder()\n",
    "enc = preprocessing.OneHotEncoder()"
   ]
  },
  {
   "cell_type": "markdown",
   "id": "a23e818c-5fd6-4aa9-9a18-2c1aeea677d9",
   "metadata": {},
   "source": [
    "### Importing our LinkedIn Profile data set\n",
    "\n",
    "In this section we use pandas to load our data set that we've gathered in our data collection."
   ]
  },
  {
   "cell_type": "code",
   "execution_count": 7,
   "id": "92a0094c",
   "metadata": {},
   "outputs": [
    {
     "data": {
      "text/plain": "                                             Headline          Industry\n0   Director of Data Science, Machine Learning at ...  Machine Learning\n1   Leverage System-On-Chip Software and Deep Lear...  Machine Learning\n2   Machine Learning Research Scientist - Deep Lea...  Machine Learning\n3               Principal Data Scientist at Accenture  Machine Learning\n4   Vice President of Machine Learning at Walmart ...  Machine Learning\n..                                                ...               ...\n91                 Founder & CEO at The Kinetic Group           Finance\n92  Operations professional supporting sustainabil...           Finance\n93     Director of Editorial Operations, WNYC Studios           Finance\n94  Implementer | Active Learner | Detail-oriented...           Finance\n95  Vice President, Counsel - Practice Group Head ...           Finance\n\n[96 rows x 2 columns]",
      "text/html": "<div>\n<style scoped>\n    .dataframe tbody tr th:only-of-type {\n        vertical-align: middle;\n    }\n\n    .dataframe tbody tr th {\n        vertical-align: top;\n    }\n\n    .dataframe thead th {\n        text-align: right;\n    }\n</style>\n<table border=\"1\" class=\"dataframe\">\n  <thead>\n    <tr style=\"text-align: right;\">\n      <th></th>\n      <th>Headline</th>\n      <th>Industry</th>\n    </tr>\n  </thead>\n  <tbody>\n    <tr>\n      <th>0</th>\n      <td>Director of Data Science, Machine Learning at ...</td>\n      <td>Machine Learning</td>\n    </tr>\n    <tr>\n      <th>1</th>\n      <td>Leverage System-On-Chip Software and Deep Lear...</td>\n      <td>Machine Learning</td>\n    </tr>\n    <tr>\n      <th>2</th>\n      <td>Machine Learning Research Scientist - Deep Lea...</td>\n      <td>Machine Learning</td>\n    </tr>\n    <tr>\n      <th>3</th>\n      <td>Principal Data Scientist at Accenture</td>\n      <td>Machine Learning</td>\n    </tr>\n    <tr>\n      <th>4</th>\n      <td>Vice President of Machine Learning at Walmart ...</td>\n      <td>Machine Learning</td>\n    </tr>\n    <tr>\n      <th>...</th>\n      <td>...</td>\n      <td>...</td>\n    </tr>\n    <tr>\n      <th>91</th>\n      <td>Founder &amp; CEO at The Kinetic Group</td>\n      <td>Finance</td>\n    </tr>\n    <tr>\n      <th>92</th>\n      <td>Operations professional supporting sustainabil...</td>\n      <td>Finance</td>\n    </tr>\n    <tr>\n      <th>93</th>\n      <td>Director of Editorial Operations, WNYC Studios</td>\n      <td>Finance</td>\n    </tr>\n    <tr>\n      <th>94</th>\n      <td>Implementer | Active Learner | Detail-oriented...</td>\n      <td>Finance</td>\n    </tr>\n    <tr>\n      <th>95</th>\n      <td>Vice President, Counsel - Practice Group Head ...</td>\n      <td>Finance</td>\n    </tr>\n  </tbody>\n</table>\n<p>96 rows × 2 columns</p>\n</div>"
     },
     "execution_count": 7,
     "metadata": {},
     "output_type": "execute_result"
    }
   ],
   "source": [
    "# load data set\n",
    "linkedIn_data = pd.read_csv('../excel-data/new_update_sheet.csv')\n",
    "linkedIn_data"
   ]
  },
  {
   "cell_type": "markdown",
   "id": "125e1402-699d-4bde-84e5-e7e6d2775ae5",
   "metadata": {},
   "source": [
    "### One hot encoding\n",
    "\n",
    "We then perform one-hot-encoding to translate our data sets into binary representations. Performing this action will turn our values from up above into an Array."
   ]
  },
  {
   "cell_type": "code",
   "execution_count": 8,
   "id": "52052e63",
   "metadata": {},
   "outputs": [
    {
     "data": {
      "text/plain": "(96, 102)"
     },
     "execution_count": 8,
     "metadata": {},
     "output_type": "execute_result"
    }
   ],
   "source": [
    "# One hot code our data set\n",
    "x = linkedIn_data.apply(label.fit_transform)\n",
    "enc.fit(x)\n",
    "onehotlabels = enc.transform(x).toarray()\n",
    "onehotlabels.shape"
   ]
  },
  {
   "cell_type": "markdown",
   "id": "c9015a5b",
   "metadata": {},
   "source": [
    "# PCA - Principle Component Analysis"
   ]
  },
  {
   "cell_type": "markdown",
   "id": "b7ebc897",
   "metadata": {},
   "source": [
    "Principle component analysis will reduces the dimensionality of the machine learning program to classify our data. As stated in our previous analysis on PCA we'll be using the data sets from our linkedin scraper to reduce the n dimensions. In the function below we use our binary representations (in an array form) from up above and apply it to the data and column names."
   ]
  },
  {
   "cell_type": "code",
   "execution_count": 9,
   "id": "528ae179",
   "metadata": {},
   "outputs": [],
   "source": [
    "# create a dataframe using the data and columns names\n",
    "df = pd.DataFrame(x)"
   ]
  },
  {
   "cell_type": "code",
   "execution_count": 10,
   "id": "f62cc658",
   "metadata": {
    "scrolled": true
   },
   "outputs": [
    {
     "data": {
      "text/plain": "   Headline  Industry\n0        22         3\n1        54         3\n2        56         3\n3        67         3\n4        91         3",
      "text/html": "<div>\n<style scoped>\n    .dataframe tbody tr th:only-of-type {\n        vertical-align: middle;\n    }\n\n    .dataframe tbody tr th {\n        vertical-align: top;\n    }\n\n    .dataframe thead th {\n        text-align: right;\n    }\n</style>\n<table border=\"1\" class=\"dataframe\">\n  <thead>\n    <tr style=\"text-align: right;\">\n      <th></th>\n      <th>Headline</th>\n      <th>Industry</th>\n    </tr>\n  </thead>\n  <tbody>\n    <tr>\n      <th>0</th>\n      <td>22</td>\n      <td>3</td>\n    </tr>\n    <tr>\n      <th>1</th>\n      <td>54</td>\n      <td>3</td>\n    </tr>\n    <tr>\n      <th>2</th>\n      <td>56</td>\n      <td>3</td>\n    </tr>\n    <tr>\n      <th>3</th>\n      <td>67</td>\n      <td>3</td>\n    </tr>\n    <tr>\n      <th>4</th>\n      <td>91</td>\n      <td>3</td>\n    </tr>\n  </tbody>\n</table>\n</div>"
     },
     "execution_count": 10,
     "metadata": {},
     "output_type": "execute_result"
    }
   ],
   "source": [
    "df.head()"
   ]
  },
  {
   "cell_type": "markdown",
   "id": "25ea7a10",
   "metadata": {},
   "source": [
    "## Standardize the data\n",
    "\n",
    "It is difficult to visualize our high dimensional data so we use PCA to find the first two principle components, and visualize the data in a new two-dimensonal space. Before using PCA we'll need to scale our data so that our feature has a single unit of variance. Below we use the StandardScaler Library we imported up above."
   ]
  },
  {
   "cell_type": "code",
   "execution_count": 11,
   "id": "5350ff00",
   "metadata": {},
   "outputs": [],
   "source": [
    "scaler = StandardScaler()\n",
    "scaler.fit(df)\n",
    "scaled_data = scaler.transform(df)"
   ]
  },
  {
   "cell_type": "markdown",
   "id": "8260d1fe",
   "metadata": {},
   "source": [
    "## Transform Data with PCA\n",
    "\n",
    "We instantiate a PCA object, find the principle components using the fit method and adjust the n_components to 2. We also Transform this data into its first 2 principle components"
   ]
  },
  {
   "cell_type": "code",
   "execution_count": 12,
   "id": "123b56f7",
   "metadata": {},
   "outputs": [],
   "source": [
    "from sklearn.decomposition import PCA"
   ]
  },
  {
   "cell_type": "code",
   "execution_count": 13,
   "id": "7bc7ce2f",
   "metadata": {},
   "outputs": [],
   "source": [
    "# increase pca and compare & contrast\n",
    "pca = PCA(n_components=2)"
   ]
  },
  {
   "cell_type": "code",
   "execution_count": 14,
   "id": "5f020823",
   "metadata": {},
   "outputs": [
    {
     "data": {
      "text/plain": "PCA(n_components=2)"
     },
     "execution_count": 14,
     "metadata": {},
     "output_type": "execute_result"
    }
   ],
   "source": [
    "pca.fit(scaled_data)"
   ]
  },
  {
   "cell_type": "code",
   "execution_count": 15,
   "id": "e46f7c1e",
   "metadata": {},
   "outputs": [],
   "source": [
    "x_pca = pca.fit_transform(scaled_data)"
   ]
  },
  {
   "cell_type": "markdown",
   "id": "ebd674d2",
   "metadata": {},
   "source": [
    "### Reducing the data set\n",
    "By using PCA we've reduced our data dimensionality by from 112 to 2."
   ]
  },
  {
   "cell_type": "code",
   "execution_count": 16,
   "id": "b4ad0b48",
   "metadata": {},
   "outputs": [
    {
     "data": {
      "text/plain": "(96, 2)"
     },
     "execution_count": 16,
     "metadata": {},
     "output_type": "execute_result"
    }
   ],
   "source": [
    "# Shape the data\n",
    "scaled_data.shape"
   ]
  },
  {
   "cell_type": "code",
   "execution_count": 17,
   "id": "98fb67f1",
   "metadata": {},
   "outputs": [
    {
     "data": {
      "text/plain": "(96, 2)"
     },
     "execution_count": 17,
     "metadata": {},
     "output_type": "execute_result"
    }
   ],
   "source": [
    "x_pca.shape"
   ]
  },
  {
   "cell_type": "markdown",
   "id": "29ca3be8",
   "metadata": {},
   "source": [
    "### Plotting the Dimensions\n",
    "We reference the Industry column in our excel sheet and visualize the linearity, which simplifies the problem by:\n",
    "\n",
    "1. retricting the set of potential basis\n",
    "2. Formulating the implied contuinty in our dataset\n",
    "**(Shlens, 2003)**\n"
   ]
  },
  {
   "cell_type": "code",
   "execution_count": 18,
   "id": "8497ce9f",
   "metadata": {},
   "outputs": [
    {
     "data": {
      "text/plain": "Text(0, 0.5, 'Second principle component')"
     },
     "execution_count": 18,
     "metadata": {},
     "output_type": "execute_result"
    },
    {
     "data": {
      "text/plain": "<Figure size 576x432 with 1 Axes>",
      "image/png": "[encoded data removed]"
     },
     "metadata": {
      "needs_background": "light"
     },
     "output_type": "display_data"
    }
   ],
   "source": [
    "plt.figure(figsize=(8,6))\n",
    "plt.scatter(x_pca[:,0],x_pca[:,1], c=x['Industry'], cmap='plasma')\n",
    "\n",
    "plt.xlabel('First principle component')\n",
    "plt.ylabel('Second principle component')"
   ]
  },
  {
   "cell_type": "markdown",
   "id": "dc80621c",
   "metadata": {},
   "source": [
    "### Labeling and plotting our PCA components\n",
    "\n",
    "Previously we had many other columns that had little to no corrolation with each other. Due to the inconclusivity we've reduced the amount of columns and only used the **Headline** and **Industry**. The plot above tells us that our data set appears to be strongly related, which indicates that the following plots in our data sets are nearby from each other. The following code below categorize the data continuity set by Industry labels.\n",
    "\n",
    "- Showcase the before and after code here"
   ]
  },
  {
   "cell_type": "code",
   "execution_count": 19,
   "id": "7bde30de",
   "metadata": {},
   "outputs": [
    {
     "data": {
      "text/plain": "<Figure size 576x576 with 1 Axes>",
      "image/png": "[encoded data removed]"
     },
     "metadata": {
      "needs_background": "light"
     },
     "output_type": "display_data"
    }
   ],
   "source": [
    "principleDf = pd.DataFrame(data=x_pca, columns=['PC-1','PC-2'])\n",
    "finalDf = pd.concat([principleDf, df['Industry']], axis=1)\n",
    "fig = plt.figure(figsize=(8,8))\n",
    "ax = fig.add_subplot(1,1,1)\n",
    "\n",
    "# Labeling the dimensions\n",
    "targets = [\"Machine Learning\", \"Finance\", \"Product Manager\", \"Business\", \"Software Engineer\", \"Marketing\", \"Lawyer\"]\n",
    "colors = [\"#de6564\", \"#56f5b3\", \"#de6fda\", \"#385000\", \"#91682c\", \"#8855dd\", \"#dea34e\"]\n",
    "\n",
    "for i, target in (enumerate(targets)):\n",
    "    indKeep = finalDf['Industry'] == i\n",
    "    ax.scatter(finalDf.loc[indKeep, 'PC-1'], finalDf.loc[indKeep, 'PC-2'], c=colors[i], s=50)\n",
    "\n",
    "    \n",
    "# phrase 2vector\n",
    "ax.legend(targets)\n",
    "ax.grid()\n",
    "plt.show()"
   ]
  },
  {
   "cell_type": "markdown",
   "id": "2082b4af-6b49-4d8d-8548-7c7d47e1cbf1",
   "metadata": {},
   "source": [
    "Here's an array of our principle components in binary form."
   ]
  },
  {
   "cell_type": "code",
   "execution_count": 20,
   "id": "b5a12d3d",
   "metadata": {
    "scrolled": true
   },
   "outputs": [
    {
     "data": {
      "text/plain": "array([[ 0.70710678,  0.70710678],\n       [ 0.70710678, -0.70710678]])"
     },
     "execution_count": 20,
     "metadata": {},
     "output_type": "execute_result"
    }
   ],
   "source": [
    "pca.components_"
   ]
  },
  {
   "cell_type": "markdown",
   "id": "659b168d",
   "metadata": {},
   "source": [
    "## Split the data\n",
    "\n",
    "Before applying K-NN to our data set we'll need to split the data into seperate variables we cut one and two sigma, which is a principle way to decide how many dimensions to include and retains a fix percentage of the variant."
   ]
  },
  {
   "cell_type": "code",
   "execution_count": 21,
   "id": "4bc94530",
   "metadata": {},
   "outputs": [],
   "source": [
    "from sklearn.model_selection import train_test_split"
   ]
  },
  {
   "cell_type": "code",
   "execution_count": 22,
   "id": "add28e29",
   "metadata": {},
   "outputs": [],
   "source": [
    "X = x_pca\n",
    "y = x['Industry']\n",
    "\n",
    "X_train, X_test, y_train, y_test = train_test_split(X, y, test_size=0.30)"
   ]
  },
  {
   "cell_type": "markdown",
   "id": "d00a675e",
   "metadata": {},
   "source": [
    "## Apply the PCA to KNN\n",
    "\n",
    "After we've successfully initialize our trained tests we can now apply KNN to PCA. The code below imports the KNeighborsClassifier from sklearn and fits the training data into the knn variable. We then import the confusion_matrix and use it on our test data, the purpose of the confusion matrix is to summarize our performance for our classification algorithm. Thus giving us a better idea the type of error were making."
   ]
  },
  {
   "cell_type": "code",
   "execution_count": 23,
   "id": "41637d5d",
   "metadata": {},
   "outputs": [],
   "source": [
    "from sklearn.neighbors import KNeighborsClassifier"
   ]
  },
  {
   "cell_type": "code",
   "execution_count": 24,
   "id": "be1a4fba",
   "metadata": {},
   "outputs": [],
   "source": [
    "knn = KNeighborsClassifier(n_neighbors=1)"
   ]
  },
  {
   "cell_type": "code",
   "execution_count": 25,
   "id": "0e3ccbef",
   "metadata": {},
   "outputs": [
    {
     "data": {
      "text/plain": "KNeighborsClassifier(n_neighbors=1)"
     },
     "execution_count": 25,
     "metadata": {},
     "output_type": "execute_result"
    }
   ],
   "source": [
    "knn.fit(X_train, y_train)"
   ]
  },
  {
   "cell_type": "code",
   "execution_count": 26,
   "id": "676ea33e",
   "metadata": {},
   "outputs": [],
   "source": [
    "pred = knn.predict(X_test)"
   ]
  },
  {
   "cell_type": "code",
   "execution_count": 27,
   "id": "57fcae8f",
   "metadata": {},
   "outputs": [],
   "source": [
    "from sklearn.metrics import classification_report,confusion_matrix, accuracy_score"
   ]
  },
  {
   "cell_type": "code",
   "execution_count": 28,
   "id": "f0d02668",
   "metadata": {},
   "outputs": [
    {
     "name": "stdout",
     "output_type": "stream",
     "text": [
      "[[2 0 0 0 0 0 0]\n",
      " [0 6 2 0 0 0 0]\n",
      " [0 0 3 1 0 0 0]\n",
      " [0 0 0 5 0 0 0]\n",
      " [0 0 0 0 1 0 0]\n",
      " [0 0 0 0 0 6 0]\n",
      " [0 0 0 0 0 0 3]]\n"
     ]
    }
   ],
   "source": [
    "pred_vis = confusion_matrix(y_test,pred)\n",
    "print(pred_vis)"
   ]
  },
  {
   "cell_type": "markdown",
   "id": "f189182f-adbe-4c51-a14f-4dad4f8311e5",
   "metadata": {},
   "source": [
    "### Accuracy Score\n",
    "There are two parts to our results, we first run the accuracy score to make sure the set of labels does in fact predict the similar results as y_test. We then run a classfication_report to determine the classification metrics of our algorithm.\n",
    "\n",
    "The result of our algorithm shows that the f1-score is 93% accurate in predicting the relationship between the two points.\n",
    "- If we expand the features to 7 or more dimensions the accuracy score decreases."
   ]
  },
  {
   "cell_type": "code",
   "execution_count": 29,
   "id": "3e2f292d-91d3-4a57-a9a3-5da406f01546",
   "metadata": {},
   "outputs": [
    {
     "name": "stdout",
     "output_type": "stream",
     "text": [
      "0.896551724137931\n"
     ]
    }
   ],
   "source": [
    "# printing the accuracy score\n",
    "print(accuracy_score(y_test, pred))"
   ]
  },
  {
   "cell_type": "code",
   "id": "2d713dad",
   "metadata": {
    "pycharm": {
     "name": "#%%\n"
    }
   },
   "source": [
    "print(classification_report(y_test, pred))"
   ],
   "execution_count": 30,
   "outputs": [
    {
     "name": "stdout",
     "output_type": "stream",
     "text": [
      "              precision    recall  f1-score   support\n",
      "\n",
      "           0       1.00      1.00      1.00         2\n",
      "           1       1.00      0.75      0.86         8\n",
      "           2       0.60      0.75      0.67         4\n",
      "           3       0.83      1.00      0.91         5\n",
      "           4       1.00      1.00      1.00         1\n",
      "           5       1.00      1.00      1.00         6\n",
      "           6       1.00      1.00      1.00         3\n",
      "\n",
      "    accuracy                           0.90        29\n",
      "   macro avg       0.92      0.93      0.92        29\n",
      "weighted avg       0.92      0.90      0.90        29\n",
      "\n"
     ]
    }
   ]
  },
  {
   "cell_type": "markdown",
   "source": [
    "## Error rate at different values\n",
    "In this section we will calculate the mean-squared-error to improve our classification report. The goal is to:\n",
    "- Find the error rate for model above.\n",
    "- Improve the algorithm based on the error-rate."
   ],
   "metadata": {
    "collapsed": false,
    "pycharm": {
     "name": "#%% md\n"
    }
   }
  },
  {
   "cell_type": "code",
   "execution_count": 31,
   "outputs": [],
   "source": [
    "ERROR_RATE = []\n",
    "\n",
    "for i in range(1, 50):\n",
    "    knn = KNeighborsClassifier(n_neighbors=i)\n",
    "    knn.fit(X_train, y_train)\n",
    "    pred_i = knn.predict(X_test)\n",
    "    ERROR_RATE.append(np.mean(pred_i != y_test))"
   ],
   "metadata": {
    "collapsed": false,
    "pycharm": {
     "name": "#%%\n"
    }
   }
  },
  {
   "cell_type": "code",
   "execution_count": 32,
   "outputs": [
    {
     "data": {
      "text/plain": "Text(0, 0.5, 'Error Rate')"
     },
     "execution_count": 32,
     "metadata": {},
     "output_type": "execute_result"
    },
    {
     "data": {
      "text/plain": "<Figure size 1080x576 with 1 Axes>",
      "image/png": "[encoded data removed]"
     },
     "metadata": {
      "needs_background": "light"
     },
     "output_type": "display_data"
    }
   ],
   "source": [
    "plt.figure(figsize=(15,8))\n",
    "plt.plot(range(1,50),ERROR_RATE,color='blue', linestyle='dashed', marker='o',\n",
    "         markerfacecolor='red', markersize=10)\n",
    "plt.title('Error Rate vs. K Value')\n",
    "plt.xlabel('K')\n",
    "plt.ylabel('Error Rate')"
   ],
   "metadata": {
    "collapsed": false,
    "pycharm": {
     "name": "#%%\n"
    }
   }
  },
  {
   "cell_type": "markdown",
   "source": [
    "## In this step we find the lowest error rate and update the model"
   ],
   "metadata": {
    "collapsed": false,
    "pycharm": {
     "name": "#%% md\n"
    }
   }
  },
  {
   "cell_type": "code",
   "execution_count": 33,
   "outputs": [
    {
     "name": "stdout",
     "output_type": "stream",
     "text": [
      "Minimum Error Rate: 0.10344827586206896\n",
      "Index position of Minimum Error Rate: 1\n"
     ]
    }
   ],
   "source": [
    "lowest_err_index = ERROR_RATE.index(min(ERROR_RATE))+1\n",
    "print('Minimum Error Rate: ' + str(min(ERROR_RATE)))\n",
    "print('Index position of Minimum Error Rate: ' + str(lowest_err_index))"
   ],
   "metadata": {
    "collapsed": false,
    "pycharm": {
     "name": "#%%\n"
    }
   }
  },
  {
   "cell_type": "code",
   "execution_count": 34,
   "outputs": [
    {
     "name": "stdout",
     "output_type": "stream",
     "text": [
      "WITH K = 1\n",
      "Confusion Matrix:\n",
      "[[2 0 0 0 0 0 0]\n",
      " [0 6 2 0 0 0 0]\n",
      " [0 0 3 1 0 0 0]\n",
      " [0 0 0 5 0 0 0]\n",
      " [0 0 0 0 1 0 0]\n",
      " [0 0 0 0 0 6 0]\n",
      " [0 0 0 0 0 0 3]]\n",
      "Classification Report:\n",
      "              precision    recall  f1-score   support\n",
      "\n",
      "           0       1.00      1.00      1.00         2\n",
      "           1       1.00      0.75      0.86         8\n",
      "           2       0.60      0.75      0.67         4\n",
      "           3       0.83      1.00      0.91         5\n",
      "           4       1.00      1.00      1.00         1\n",
      "           5       1.00      1.00      1.00         6\n",
      "           6       1.00      1.00      1.00         3\n",
      "\n",
      "    accuracy                           0.90        29\n",
      "   macro avg       0.92      0.93      0.92        29\n",
      "weighted avg       0.92      0.90      0.90        29\n",
      "\n"
     ]
    }
   ],
   "source": [
    "knn = KNeighborsClassifier(n_neighbors=lowest_err_index)\n",
    "\n",
    "knn.fit(X_train,y_train)\n",
    "pred = knn.predict(X_test)\n",
    "\n",
    "print('WITH K = ' + str(lowest_err_index))\n",
    "print('Confusion Matrix:')\n",
    "print(confusion_matrix(y_test,pred))\n",
    "print('Classification Report:')\n",
    "print(classification_report(y_test,pred))"
   ],
   "metadata": {
    "collapsed": false,
    "pycharm": {
     "name": "#%%\n"
    }
   }
  },
  {
   "cell_type": "code",
   "execution_count": 35,
   "outputs": [
    {
     "data": {
      "text/plain": "array([0, 1, 2, 3, 4, 5, 6])"
     },
     "execution_count": 35,
     "metadata": {},
     "output_type": "execute_result"
    }
   ],
   "source": [
    "np.unique(df['Industry'])"
   ],
   "metadata": {
    "collapsed": false,
    "pycharm": {
     "name": "#%%\n"
    }
   }
  },
  {
   "cell_type": "markdown",
   "source": [
    "## Testing our Sample\n",
    "- Testing our sample with my personal profile."
   ],
   "metadata": {
    "collapsed": false,
    "pycharm": {
     "name": "#%% md\n"
    }
   }
  },
  {
   "cell_type": "code",
   "execution_count": 36,
   "outputs": [
    {
     "ename": "KeyError",
     "evalue": "3",
     "output_type": "error",
     "traceback": [
      "\u001B[0;31m---------------------------------------------------------------------------\u001B[0m",
      "\u001B[0;31mKeyError\u001B[0m                                  Traceback (most recent call last)",
      "\u001B[0;32m<ipython-input-36-777923aeeecb>\u001B[0m in \u001B[0;36m<module>\u001B[0;34m\u001B[0m\n\u001B[1;32m      5\u001B[0m \u001B[0my_test_np\u001B[0m \u001B[0;34m=\u001B[0m \u001B[0mnp\u001B[0m\u001B[0;34m.\u001B[0m\u001B[0marray\u001B[0m\u001B[0;34m(\u001B[0m\u001B[0my_test\u001B[0m\u001B[0;34m)\u001B[0m\u001B[0;34m\u001B[0m\u001B[0;34m\u001B[0m\u001B[0m\n\u001B[1;32m      6\u001B[0m \u001B[0;34m\u001B[0m\u001B[0m\n\u001B[0;32m----> 7\u001B[0;31m \u001B[0mprint\u001B[0m\u001B[0;34m(\u001B[0m\u001B[0;34mf'Actual --> {profile_type[y_test_np[profile_index]]}  --  Prediction --> {profile_type[pred[profile_index]]}'\u001B[0m\u001B[0;34m)\u001B[0m\u001B[0;34m\u001B[0m\u001B[0;34m\u001B[0m\u001B[0m\n\u001B[0m",
      "\u001B[0;31mKeyError\u001B[0m: 3"
     ]
    }
   ],
   "source": [
    "# Reading in the test data.\n",
    "profile_type = {0: 'CS @ Middlesex University', 1: 'Software Engineer'}\n",
    "profile_index = 0\n",
    "\n",
    "y_test_np = np.array(y_test)\n",
    "\n",
    "print(f'Actual --> {profile_type[y_test_np[profile_index]]}  --  Prediction --> {profile_type[pred[profile_index]]}')"
   ],
   "metadata": {
    "collapsed": false,
    "pycharm": {
     "name": "#%%\n"
    }
   }
  }
 ],
 "metadata": {
  "kernelspec": {
   "display_name": "Python 3",
   "language": "python",
   "name": "python3"
  },
  "language_info": {
   "codemirror_mode": {
    "name": "ipython",
    "version": 3
   },
   "file_extension": ".py",
   "mimetype": "text/x-python",
   "name": "python",
   "nbconvert_exporter": "python",
   "pygments_lexer": "ipython3",
   "version": "3.8.8"
  }
 },
 "nbformat": 4,
 "nbformat_minor": 5
}